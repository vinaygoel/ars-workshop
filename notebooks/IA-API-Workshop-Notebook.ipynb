{
 "cells": [
  {
   "cell_type": "markdown",
   "metadata": {},
   "source": [
    "# IA API Workshop Notebook"
   ]
  },
  {
   "cell_type": "markdown",
   "metadata": {},
   "source": [
    "This notebook contains a tutorial for using the various APIs at the Internet Archive via Python.\n",
    "\n",
    "Rather than using command line tools such as `curl` and `jq` to parse information, we will use Python to process each file. This will make it easy to visualize the data and do advanced transformations on the results.\n",
    "\n",
    "## Libraries\n",
    "\n",
    "\n",
    "Python's standard library includes [`http`](https://docs.python.org/3/library/http.html) and [`urllib.request`](https://docs.python.org/3/library/urllib.request.html) modules for retrieving data from API endpoints. However, the documentation itself recommends using [`requests`](http://docs.python-requests.org/en/master/), a third-party library for interacting with APIs.\n",
    "\n",
    "One very useful part of requests is built in `json` and HTTP authentication support.\n",
    "\n",
    "We also use [`matplotlib`](https://matplotlib.org/) for visualization, especially the [`pyplot`](https://matplotlib.org/api/pyplot_summary.html) module"
   ]
  },
  {
   "cell_type": "code",
   "execution_count": 1,
   "metadata": {
    "collapsed": true
   },
   "outputs": [],
   "source": [
    "%matplotlib inline\n",
    "import matplotlib.pyplot as plt\n",
    "import numpy as np\n",
    "\n",
    "import requests"
   ]
  },
  {
   "cell_type": "markdown",
   "metadata": {},
   "source": [
    "# APIs"
   ]
  },
  {
   "cell_type": "markdown",
   "metadata": {},
   "source": [
    "## Wayback Availability API\n",
    "\n",
    "We start with the Wayback Availability API. First, we use `requests.get()` to complete a request cycle. Then, we show how to genericize the request into a function that handles cases when Wayback is not available."
   ]
  },
  {
   "cell_type": "code",
   "execution_count": 2,
   "metadata": {
    "collapsed": false
   },
   "outputs": [
    {
     "data": {
      "text/plain": [
       "{'archived_snapshots': {'closest': {'available': True,\n",
       "   'status': '200',\n",
       "   'timestamp': '20170925160637',\n",
       "   'url': 'http://web.archive.org/web/20170925160637/http://example.com'}},\n",
       " 'url': 'example.com'}"
      ]
     },
     "execution_count": 2,
     "metadata": {},
     "output_type": "execute_result"
    }
   ],
   "source": [
    "# Demonstrate a successful Wayback Availability query\n",
    "URL = 'example.com'\n",
    "r = requests.get('http://archive.org/wayback/available?url={}'.format(URL))\n",
    "r.json()"
   ]
  },
  {
   "cell_type": "code",
   "execution_count": 3,
   "metadata": {
    "collapsed": false
   },
   "outputs": [
    {
     "data": {
      "text/plain": [
       "{'archived_snapshots': {}, 'url': 'foo.example.com'}"
      ]
     },
     "execution_count": 3,
     "metadata": {},
     "output_type": "execute_result"
    }
   ],
   "source": [
    "# Demonstrate an unsuccessful Wayback Availability query\n",
    "URL = 'foo.example.com'\n",
    "r = requests.get('http://archive.org/wayback/available?url={}'.format(URL))\n",
    "r.json()"
   ]
  },
  {
   "cell_type": "code",
   "execution_count": 4,
   "metadata": {
    "collapsed": false
   },
   "outputs": [
    {
     "name": "stdout",
     "output_type": "stream",
     "text": [
      "example.com True\n",
      "foo.example.com False\n"
     ]
    }
   ],
   "source": [
    "# convert to a boolean function\n",
    "def available(URL):\n",
    "    r = requests.get('http://archive.org/wayback/available?url={}'.format(URL))\n",
    "    data = r.json()\n",
    "    return bool(data['archived_snapshots'])\n",
    "\n",
    "print(\"example.com\", available('example.com'))\n",
    "print(\"foo.example.com\", available('foo.example.com'))"
   ]
  },
  {
   "cell_type": "markdown",
   "metadata": {},
   "source": [
    "## Wayback CDX API\n",
    "\n",
    "The Wayback CDX (Capture InDeX) contains records in an 11-column table that uses URL and timestamp as keys. This is an API that truly benefits from Python usage, as we can build a custom parsing function to extract the values from the CDX records."
   ]
  },
  {
   "cell_type": "code",
   "execution_count": 5,
   "metadata": {
    "collapsed": true
   },
   "outputs": [],
   "source": [
    "r = requests.get('http://web.archive.org/cdx/search?url=example.com')"
   ]
  },
  {
   "cell_type": "code",
   "execution_count": 10,
   "metadata": {
    "collapsed": false
   },
   "outputs": [
    {
     "data": {
      "text/plain": [
       "<generator object parse_cdx at 0x7f57e10f7150>"
      ]
     },
     "execution_count": 10,
     "metadata": {},
     "output_type": "execute_result"
    }
   ],
   "source": [
    "import csv\n",
    "from io import StringIO\n",
    "from datetime import datetime\n",
    "\n",
    "def parse_cdx(URL):\n",
    "    \"\"\"\n",
    "    Parses the data from a Wayback CDX API request and returns a generator of CDX data.\n",
    "    It converts the timestamp, statuscode, and length into native datatypes.\n",
    "    \"\"\"\n",
    "    FIELDS = ['urlkey', 'timestamp', 'original', 'mimetype', 'statuscode', 'digest', 'length']\n",
    "    r = requests.get('http://web.archive.org/cdx/search?url={}'.format(URL))\n",
    "    text = StringIO(r.text)\n",
    "    reader = csv.DictReader(text, fieldnames=FIELDS, delimiter=' ')\n",
    "    for row in reader:\n",
    "        try:\n",
    "            row['timestamp'] = datetime.strptime(row['timestamp'], '%Y%m%d%H%M%S')\n",
    "            row['length'] = 0 if row['statuscode'] == '-' else int(row['length'])\n",
    "            yield row\n",
    "        except ValueError:\n",
    "            pass\n",
    "\n",
    "# Note, this only returns the generator! Not a list!\n",
    "parse_cdx('example.com')"
   ]
  },
  {
   "cell_type": "markdown",
   "metadata": {},
   "source": [
    "### CDX API Example: counting response codes"
   ]
  },
  {
   "cell_type": "code",
   "execution_count": 11,
   "metadata": {
    "collapsed": false,
    "scrolled": true
   },
   "outputs": [
    {
     "data": {
      "image/png": "[encoded data removed]",
      "text/plain": [
       "<matplotlib.figure.Figure at 0x7f580c4a4160>"
      ]
     },
     "metadata": {},
     "output_type": "display_data"
    }
   ],
   "source": [
    "from collections import defaultdict\n",
    "\n",
    "counts = defaultdict(int)\n",
    "for row in parse_cdx('example.com'):\n",
    "    counts[row['statuscode']] += 1\n",
    "\n",
    "# get the values and sort them\n",
    "codes = sorted(counts.keys())\n",
    "data = [counts[code] for code in codes]\n",
    "\n",
    "# plot the data\n",
    "plt.title(\"Wayback CDX results by HTTP Status Code\")\n",
    "plt.bar(np.arange(len(data)), data)\n",
    "plt.xlabel(\"Status code\")\n",
    "plt.ylabel(\"# URLs\")\n",
    "plt.xticks(np.arange(len(data)), codes)\n",
    "plt.show()"
   ]
  },
  {
   "cell_type": "markdown",
   "metadata": {},
   "source": [
    "You'll notice that most of the requests have a status code of `-`. These entries also have a mime-type of `warc/revisit`. \n",
    "\n",
    "```\n",
    "com,example)/ 20090925093245 http://www.example.com/ warc/revisit - EF7YLJGKQUMLJFP3F7A7LBALC65T5W2O 498\n",
    "```\n",
    "\n",
    "`warc/revisit` refers to an entry that was crawled, but revealed to have no change in content from the last crawl. Rather than store the same data twice, we simply mark that it was unchanged and continue with the crawl. This drastically reduces the size of the WARC files, but creates some usability issues when it comes to issues like this.\n",
    "\n",
    "We handle revisits by setting their `length` to zero, so it does not increase the crawl size statistics.\n",
    "When calculating response code stats, we skip the `-` status code CDX entries.\n",
    "When calculating crawl visit statistics, we include the `-` status code CDX entries.\n",
    "\n"
   ]
  },
  {
   "cell_type": "code",
   "execution_count": 12,
   "metadata": {
    "collapsed": false
   },
   "outputs": [
    {
     "data": {
      "image/png": "[encoded data removed]",
      "text/plain": [
       "<matplotlib.figure.Figure at 0x7f57e0fe6048>"
      ]
     },
     "metadata": {},
     "output_type": "display_data"
    }
   ],
   "source": [
    "from collections import defaultdict\n",
    "\n",
    "counts = defaultdict(int)\n",
    "for row in parse_cdx('example.com'):\n",
    "    if row['statuscode'] is not '-':\n",
    "        counts[row['statuscode']] += 1\n",
    "\n",
    "# get the values and sort them\n",
    "codes = sorted(counts.keys())\n",
    "data = [counts[code] for code in codes]\n",
    "\n",
    "# plot the data\n",
    "plt.title(\"Wayback CDX results by HTTP Status Code\")\n",
    "plt.bar(np.arange(len(data)), data)\n",
    "plt.xlabel(\"Status code\")\n",
    "plt.ylabel(\"# URLs\")\n",
    "plt.xticks(np.arange(len(data)), codes)\n",
    "plt.show()"
   ]
  },
  {
   "cell_type": "markdown",
   "metadata": {},
   "source": [
    "**Much better!**"
   ]
  },
  {
   "cell_type": "markdown",
   "metadata": {},
   "source": [
    "### CDX API Example: Cumulative Capture Size\n",
    "\n",
    "In this example, we will use the time stamps to plot how much data was collected over time per URL. \n",
    "\n",
    "It uses the [`matplotlib.dates`](https://matplotlib.org/api/dates_api.html) library to improve the chart legibility."
   ]
  },
  {
   "cell_type": "code",
   "execution_count": 13,
   "metadata": {
    "collapsed": false
   },
   "outputs": [
    {
     "data": {
      "image/png": "[encoded data removed]",
      "text/plain": [
       "<matplotlib.figure.Figure at 0x7f58080daf60>"
      ]
     },
     "metadata": {},
     "output_type": "display_data"
    }
   ],
   "source": [
    "import matplotlib.dates as mdates\n",
    "\n",
    "URL = 'example.com'\n",
    "\n",
    "# aggregate the data\n",
    "dates = []; lengths = []\n",
    "for row in parse_cdx(URL):\n",
    "    dates.append(mdates.date2num(row['timestamp']))\n",
    "    lengths.append(row['length'])\n",
    "\n",
    "# sort the data\n",
    "dates, lengths = zip(*sorted(zip(dates, lengths)))\n",
    "\n",
    "# plot the data\n",
    "plt.title(\"Cumulative Wayback Capture Size for {}\".format(URL))\n",
    "plt.plot_date(dates, np.cumsum(lengths))\n",
    "plt.xlabel(\"Crawl date\")\n",
    "plt.ylabel(\"Capture size (bytes)\")\n",
    "plt.show()"
   ]
  },
  {
   "cell_type": "markdown",
   "metadata": {},
   "source": [
    "### CDX Example: Crawl Rate"
   ]
  },
  {
   "cell_type": "code",
   "execution_count": 21,
   "metadata": {
    "collapsed": false
   },
   "outputs": [
    {
     "name": "stdout",
     "output_type": "stream",
     "text": [
      "The crawl rate for example.com is 19.085849 visits/day\n"
     ]
    }
   ],
   "source": [
    "import matplotlib.dates as mdates\n",
    "\n",
    "URL = 'example.com'\n",
    "\n",
    "# aggregate the data\n",
    "dates = []; lengths = []\n",
    "for row in parse_cdx(URL):\n",
    "    dates.append(mdates.date2num(row['timestamp']))\n",
    "    lengths.append(row['length'])\n",
    "\n",
    "# sort the data\n",
    "dates, lengths = zip(*sorted(zip(dates, lengths)))\n",
    "\n",
    "crawl_rate = len(dates) / (max(dates) - min(dates))\n",
    "print(\"The crawl rate for {} is {:4f} visits/day\".format(URL, crawl_rate))"
   ]
  }
 ],
 "metadata": {
  "kernelspec": {
   "display_name": "Python 3",
   "language": "python",
   "name": "python3"
  },
  "language_info": {
   "codemirror_mode": {
    "name": "ipython",
    "version": 3
   },
   "file_extension": ".py",
   "mimetype": "text/x-python",
   "name": "python",
   "nbconvert_exporter": "python",
   "pygments_lexer": "ipython3",
   "version": "3.6.0"
  }
 },
 "nbformat": 4,
 "nbformat_minor": 2
}
